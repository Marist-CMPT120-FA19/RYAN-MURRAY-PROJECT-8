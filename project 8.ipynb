{
 "cells": [
  {
   "cell_type": "code",
   "execution_count": 1,
   "metadata": {},
   "outputs": [
    {
     "name": "stdout",
     "output_type": "stream",
     "text": [
      "Enter the average tempurature per day separated by commas: 55 , 65 , 88 , 47\n",
      "There are 8.0 cooling degrees days and there are 18.0 heating degrees days.\n"
     ]
    }
   ],
   "source": [
    "def main():\n",
    "        temp = input(\"Enter the average tempurature per day separated by commas: \")\n",
    "        temp = temp.split(\",\")\n",
    "        coolDays = 0\n",
    "        heatDays = 0\n",
    "\n",
    "        for x in temp:\n",
    "            if float(x) > 80 or float(x) < 60:\n",
    "                if int(x) > 80:\n",
    "                    coolDays += float(x) - 80\n",
    "                else:\n",
    "                    heatDays += 60 - float(x)\n",
    "\n",
    "        print(\"There are\", coolDays, \"cooling degrees days and there are\", heatDays, \"heating degrees days.\")\n",
    "        \n",
    "main()"
   ]
  },
  {
   "cell_type": "code",
   "execution_count": null,
   "metadata": {},
   "outputs": [],
   "source": []
  }
 ],
 "metadata": {
  "kernelspec": {
   "display_name": "Python 3",
   "language": "python",
   "name": "python3"
  },
  "language_info": {
   "codemirror_mode": {
    "name": "ipython",
    "version": 3
   },
   "file_extension": ".py",
   "mimetype": "text/x-python",
   "name": "python",
   "nbconvert_exporter": "python",
   "pygments_lexer": "ipython3",
   "version": "3.7.3"
  }
 },
 "nbformat": 4,
 "nbformat_minor": 2
}
